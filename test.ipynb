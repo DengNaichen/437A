{
 "metadata": {
  "language_info": {
   "codemirror_mode": {
    "name": "ipython",
    "version": 3
   },
   "file_extension": ".py",
   "mimetype": "text/x-python",
   "name": "python",
   "nbconvert_exporter": "python",
   "pygments_lexer": "ipython3",
   "version": "3.7.0-final"
  },
  "orig_nbformat": 2,
  "kernelspec": {
   "name": "python37064bit18a955390dfc4fa4b06b9032bf3e7c01",
   "display_name": "Python 3.7.0 64-bit"
  }
 },
 "nbformat": 4,
 "nbformat_minor": 2,
 "cells": [
  {
   "cell_type": "code",
   "execution_count": 2,
   "metadata": {},
   "outputs": [],
   "source": [
    "import numpy as np"
   ]
  },
  {
   "cell_type": "code",
   "execution_count": 5,
   "metadata": {
    "tags": []
   },
   "outputs": [
    {
     "output_type": "stream",
     "name": "stdout",
     "text": "[[0.         0.04906767 0.09801714 ... 0.14673047 0.09801714 0.04906767]\n [0.04906767 0.         0.04906767 ... 0.19509032 0.14673047 0.09801714]\n [0.09801714 0.04906767 0.         ... 0.24298018 0.19509032 0.14673047]\n ...\n [0.14673047 0.19509032 0.24298018 ... 0.         0.04906767 0.09801714]\n [0.09801714 0.14673047 0.19509032 ... 0.04906767 0.         0.04906767]\n [0.04906767 0.09801714 0.14673047 ... 0.09801714 0.04906767 0.        ]]\n"
    }
   ],
   "source": [
    "N = 128\n",
    "theta = np.arange (0, 2 * np.pi, np.pi/(N/2))\n",
    "matrix = np.zeros((N, N))\n",
    "for i in range (0,N):\n",
    "    for j in range (0,N):\n",
    "        matrix [i][j] = np.abs(np.sin((theta[i] - theta [j])))\n",
    "print (matrix)"
   ]
  },
  {
   "cell_type": "code",
   "execution_count": 6,
   "metadata": {
    "tags": []
   },
   "outputs": [
    {
     "output_type": "stream",
     "name": "stdout",
     "text": "[[0.         0.04906767 0.09801714 ... 0.14673047 0.09801714 0.04906767]\n [0.04906767 0.         0.04906767 ... 0.19509032 0.14673047 0.09801714]\n [0.09801714 0.04906767 0.         ... 0.24298018 0.19509032 0.14673047]\n ...\n [0.14673047 0.19509032 0.24298018 ... 0.         0.04906767 0.09801714]\n [0.09801714 0.14673047 0.19509032 ... 0.04906767 0.         0.04906767]\n [0.04906767 0.09801714 0.14673047 ... 0.09801714 0.04906767 0.        ]]\n"
    }
   ],
   "source": [
    "N = 128\n",
    "theta = np.arange (0, 2 * np.pi, np.pi/(N/2))\n",
    "matrix = np.zeros((N, N))\n",
    "for i in range (0,N):\n",
    "    for j in range (0,N):\n",
    "        matrix [i][j] = np.abs(np.sin((theta[j] - theta [i])))\n",
    "print (matrix)"
   ]
  },
  {
   "cell_type": "code",
   "execution_count": null,
   "metadata": {},
   "outputs": [],
   "source": []
  }
 ]
}